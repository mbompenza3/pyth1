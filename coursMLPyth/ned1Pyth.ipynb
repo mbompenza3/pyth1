{
 "cells": [
  {
   "cell_type": "code",
   "execution_count": 0,
   "metadata": {
    "collapsed": false
   },
   "outputs": [
    {
     "data": {
      "text/plain": [
       "8"
      ]
     },
     "execution_count": 3,
     "metadata": {},
     "output_type": "execute_result"
    },
    {
     "data": {
      "text/plain": [
       "8"
      ]
     },
     "execution_count": 1,
     "metadata": {},
     "output_type": "execute_result"
    }
   ],
   "source": [
    "100//12"
   ]
  },
  {
   "cell_type": "code",
   "execution_count": 22,
   "metadata": {
    "collapsed": true
   },
   "outputs": [
    {
     "data": {
      "text/plain": [
       "8"
      ]
     },
     "execution_count": 22,
     "metadata": {},
     "output_type": "execute_result"
    }
   ],
   "source": [
    "round(100/12,3)\n",
    "round(100/12)"
   ]
  },
  {
   "cell_type": "code",
   "execution_count": 5,
   "metadata": {},
   "outputs": [
    {
     "data": {
      "text/plain": [
       "3628800"
      ]
     },
     "execution_count": 5,
     "metadata": {},
     "output_type": "execute_result"
    }
   ],
   "source": [
    "from math import factorial\n",
    "factorial(10)"
   ]
  },
  {
   "cell_type": "markdown",
   "metadata": {},
   "source": [
    "test"
   ]
  },
  {
   "cell_type": "heading",
   "metadata": {},
   "level": 1,
   "source": [
    "h1"
   ]
  },
  {
   "cell_type": "code",
   "execution_count": 6,
   "metadata": {},
   "outputs": [
    {
     "name": "stdout",
     "output_type": "stream",
     "text": [
      "'hello'\n"
     ]
    }
   ],
   "source": [
    "! echo 'hello'"
   ]
  },
  {
   "cell_type": "code",
   "execution_count": 15,
   "metadata": {},
   "outputs": [
    {
     "name": "stdout",
     "output_type": "stream",
     "text": [
      "Microsoft Windows [Version 6.1.7601]\r\n(c) Љ®аЇ®а жЁп Њ ©Єа®б®дв (Microsoft Corp.), 2009. ‚бҐ Їа ў  § йЁйҐ­л.\r\n\r\nC:\\Users\\MokhnachevskiyAN>cd coursPyth\n\r\nC:\\Users\\MokhnachevskiyAN>ls\n\r\nC:\\Users\\MokhnachevskiyAN>"
     ]
    },
    {
     "name": "stderr",
     "output_type": "stream",
     "text": [
      "‘ЁбвҐ¬Ґ ­Ґ г¤ Ґвбп ­ ©вЁ гЄ § ­­л© Їгвм.\r\n\"ls\" ­Ґ пў«пҐвбп ў­гваҐ­­Ґ© Ё«Ё ў­Ґи­Ґ©\r\nЄ®¬ ­¤®©, ЁбЇ®«­пҐ¬®© Їа®Ја ¬¬®© Ё«Ё Ї ЄҐв­л¬ д ©«®¬.\r\n"
     ]
    }
   ],
   "source": [
    "%%cmd \n",
    "cd coursPyth\n",
    "ls"
   ]
  },
  {
   "cell_type": "code",
   "execution_count": 16,
   "metadata": {},
   "outputs": [
    {
     "data": {
      "text/plain": [
       "Available line magics:\n%alias  %alias_magic  %autocall  %automagic  %autosave  %bookmark  %cd  %clear  %cls  %colors  %config  %connect_info  %copy  %ddir  %debug  %dhist  %dirs  %doctest_mode  %echo  %ed  %edit  %env  %gui  %hist  %history  %killbgscripts  %ldir  %less  %load  %load_ext  %loadpy  %logoff  %logon  %logstart  %logstate  %logstop  %ls  %lsmagic  %macro  %magic  %matplotlib  %mkdir  %more  %notebook  %page  %pastebin  %pdb  %pdef  %pdoc  %pfile  %pinfo  %pinfo2  %popd  %pprint  %precision  %profile  %prun  %psearch  %psource  %pushd  %pwd  %pycat  %pylab  %qtconsole  %quickref  %recall  %rehashx  %reload_ext  %ren  %rep  %rerun  %reset  %reset_selective  %rmdir  %run  %save  %sc  %set_env  %store  %sx  %system  %tb  %time  %timeit  %unalias  %unload_ext  %who  %who_ls  %whos  %xdel  %xmode\n\nAvailable cell magics:\n%%!  %%HTML  %%SVG  %%bash  %%capture  %%cmd  %%debug  %%file  %%html  %%javascript  %%js  %%latex  %%markdown  %%perl  %%prun  %%pypy  %%python  %%python2  %%python3  %%ruby  %%script  %%sh  %%svg  %%sx  %%system  %%time  %%timeit  %%writefile\n\nAutomagic is ON, % prefix IS NOT needed for line magics."
      ]
     },
     "execution_count": 16,
     "metadata": {},
     "output_type": "execute_result"
    }
   ],
   "source": [
    "%lsmagic"
   ]
  },
  {
   "cell_type": "code",
   "execution_count": 17,
   "metadata": {},
   "outputs": [
    {
     "name": "stdout",
     "output_type": "stream",
     "text": [
      "Populating the interactive namespace from numpy and matplotlib\n"
     ]
    }
   ],
   "source": [
    "%pylab inline"
   ]
  },
  {
   "cell_type": "code",
   "execution_count": 18,
   "metadata": {},
   "outputs": [],
   "source": [
    "y=range(11)"
   ]
  },
  {
   "cell_type": "code",
   "execution_count": 19,
   "metadata": {},
   "outputs": [
    {
     "data": {
      "text/plain": [
       "range(0, 11)"
      ]
     },
     "execution_count": 19,
     "metadata": {},
     "output_type": "execute_result"
    }
   ],
   "source": [
    "y"
   ]
  },
  {
   "cell_type": "code",
   "execution_count": 20,
   "metadata": {},
   "outputs": [
    {
     "data": {
      "text/plain": [
       "[<matplotlib.lines.Line2D at 0x8577e48>]"
      ]
     },
     "execution_count": 20,
     "metadata": {},
     "output_type": "execute_result"
    },
    {
     "data": {
      "image/png": "[encoded data removed]",
      "text/plain": [
       "<matplotlib.figure.Figure at 0x50197b8>"
      ]
     },
     "metadata": {},
     "output_type": "display_data"
    }
   ],
   "source": [
    "plot(y)"
   ]
  },
  {
   "cell_type": "markdown",
   "metadata": {},
   "source": [
    "#Header"
   ]
  },
  {
   "cell_type": "code",
   "execution_count": 23,
   "metadata": {},
   "outputs": [
    {
     "data": {
      "text/plain": [
       "2319713088000.0"
      ]
     },
     "execution_count": 23,
     "metadata": {},
     "output_type": "execute_result"
    }
   ],
   "source": [
    "(190**4-120/0.3)*1780"
   ]
  },
  {
   "cell_type": "code",
   "execution_count": 24,
   "metadata": {},
   "outputs": [
    {
     "data": {
      "text/plain": [
       "'1.13.1'"
      ]
     },
     "execution_count": 24,
     "metadata": {},
     "output_type": "execute_result"
    }
   ],
   "source": [
    "import numpy\n",
    "numpy.__version__"
   ]
  },
  {
   "cell_type": "code",
   "execution_count": 25,
   "metadata": {},
   "outputs": [
    {
     "data": {
      "text/plain": [
       "'0.19.1'"
      ]
     },
     "execution_count": 25,
     "metadata": {},
     "output_type": "execute_result"
    }
   ],
   "source": [
    "import scipy\n",
    "scipy.__version__"
   ]
  },
  {
   "cell_type": "code",
   "execution_count": 26,
   "metadata": {},
   "outputs": [
    {
     "data": {
      "text/plain": [
       "'0.20.2'"
      ]
     },
     "execution_count": 26,
     "metadata": {},
     "output_type": "execute_result"
    }
   ],
   "source": [
    "import pandas\n",
    "pandas.__version__"
   ]
  },
  {
   "cell_type": "code",
   "execution_count": 27,
   "metadata": {},
   "outputs": [
    {
     "data": {
      "text/plain": [
       "'2.0.2'"
      ]
     },
     "execution_count": 27,
     "metadata": {},
     "output_type": "execute_result"
    }
   ],
   "source": [
    "import matplotlib\n",
    "matplotlib.__version__"
   ]
  },
  {
   "cell_type": "markdown",
   "metadata": {},
   "source": [
    "#Машинное обучение и анализ данных"
   ]
  },
  {
   "cell_type": "markdown",
   "metadata": {},
   "source": [
    "##Математика и Python"
   ]
  },
  {
   "cell_type": "markdown",
   "metadata": {},
   "source": [
    "Задание 1"
   ]
  },
  {
   "cell_type": "code",
   "execution_count": 29,
   "metadata": {},
   "outputs": [],
   "source": [
    "x=5"
   ]
  },
  {
   "cell_type": "code",
   "execution_count": 30,
   "metadata": {
    "collapsed": false
   },
   "outputs": [
    {
     "data": {
      "text/plain": [
       "int"
      ]
     },
     "execution_count": 30,
     "metadata": {},
     "output_type": "execute_result"
    }
   ],
   "source": [
    "type(x)"
   ]
  },
  {
   "cell_type": "code",
   "execution_count": 31,
   "metadata": {},
   "outputs": [
    {
     "data": {
      "text/plain": [
       "1.25"
      ]
     },
     "execution_count": 31,
     "metadata": {},
     "output_type": "execute_result"
    }
   ],
   "source": [
    "5/4"
   ]
  },
  {
   "cell_type": "code",
   "execution_count": 32,
   "metadata": {},
   "outputs": [
    {
     "data": {
      "text/plain": [
       "-0.8"
      ]
     },
     "execution_count": 32,
     "metadata": {},
     "output_type": "execute_result"
    }
   ],
   "source": [
    "-4/5"
   ]
  },
  {
   "cell_type": "code",
   "execution_count": 39,
   "metadata": {},
   "outputs": [],
   "source": [
    "y=10**500+1"
   ]
  },
  {
   "cell_type": "code",
   "execution_count": 40,
   "metadata": {},
   "outputs": [
    {
     "data": {
      "text/plain": [
       "100000000000000000000000000000000000000000000000000000000000000000000000000000000000000000000000000000000000000000000000000000000000000000000000000000000000000000000000000000000000000000000000000000000000000000000000000000000000000000000000000000000000000000000000000000000000000000000000000000000000000000000000000000000000000000000000000000000000000000000000000000000000000000000000000000000000000000000000000000000000000000000000000000000000000000000000000000000000000000000000000000000000000000001"
      ]
     },
     "execution_count": 40,
     "metadata": {},
     "output_type": "execute_result"
    }
   ],
   "source": [
    "y"
   ]
  },
  {
   "cell_type": "code",
   "execution_count": 41,
   "metadata": {},
   "outputs": [
    {
     "data": {
      "text/plain": [
       "int"
      ]
     },
     "execution_count": 41,
     "metadata": {},
     "output_type": "execute_result"
    }
   ],
   "source": [
    "type(y)"
   ]
  },
  {
   "cell_type": "code",
   "execution_count": 42,
   "metadata": {},
   "outputs": [
    {
     "data": {
      "text/plain": [
       "str"
      ]
     },
     "execution_count": 42,
     "metadata": {},
     "output_type": "execute_result"
    }
   ],
   "source": [
    "x='abc'\n",
    "type(x)"
   ]
  },
  {
   "cell_type": "code",
   "execution_count": 43,
   "metadata": {},
   "outputs": [
    {
     "data": {
      "text/plain": [
       "'ac'"
      ]
     },
     "execution_count": 43,
     "metadata": {},
     "output_type": "execute_result"
    }
   ],
   "source": [
    "x[0::2]"
   ]
  },
  {
   "cell_type": "code",
   "execution_count": 44,
   "metadata": {},
   "outputs": [
    {
     "data": {
      "text/plain": [
       "str"
      ]
     },
     "execution_count": 44,
     "metadata": {},
     "output_type": "execute_result"
    }
   ],
   "source": [
    "x=u'abc'\n",
    "type(x)"
   ]
  },
  {
   "cell_type": "code",
   "execution_count": 45,
   "metadata": {},
   "outputs": [
    {
     "name": "stdout",
     "output_type": "stream",
     "text": [
      "еонора Михайловна\n"
     ]
    }
   ],
   "source": [
    "y=u'Элеонора Михайловна'\n",
    "y[1:]\n",
    "print(y[2:])"
   ]
  },
  {
   "cell_type": "code",
   "execution_count": 46,
   "metadata": {},
   "outputs": [
    {
     "data": {
      "text/plain": [
       "'леонора Михайловна'"
      ]
     },
     "execution_count": 46,
     "metadata": {},
     "output_type": "execute_result"
    }
   ],
   "source": [
    "y[1:]"
   ]
  },
  {
   "cell_type": "code",
   "execution_count": 49,
   "metadata": {},
   "outputs": [
    {
     "data": {
      "text/plain": [
       "b'\\xdd\\xeb\\xe5\\xee\\xed\\xee\\xf0\\xe0 \\xcc\\xe8\\xf5\\xe0\\xe9\\xeb\\xee\\xe2\\xed\\xe0'"
      ]
     },
     "execution_count": 49,
     "metadata": {},
     "output_type": "execute_result"
    }
   ],
   "source": [
    "y.encode('cp1251')"
   ]
  },
  {
   "cell_type": "code",
   "execution_count": 50,
   "metadata": {},
   "outputs": [
    {
     "data": {
      "text/plain": [
       "19"
      ]
     },
     "execution_count": 50,
     "metadata": {},
     "output_type": "execute_result"
    }
   ],
   "source": [
    "len(y)"
   ]
  },
  {
   "cell_type": "code",
   "execution_count": 53,
   "metadata": {},
   "outputs": [
    {
     "name": "stdout",
     "output_type": "stream",
     "text": [
      "['Элеонора', 'Михайловна']\n"
     ]
    }
   ],
   "source": [
    "print(y.split())"
   ]
  },
  {
   "cell_type": "code",
   "execution_count": 54,
   "metadata": {},
   "outputs": [
    {
     "name": "stdout",
     "output_type": "stream",
     "text": [
      "['Элеонора', 'Михайловна']\n"
     ]
    }
   ],
   "source": [
    "x='Элеонора Михайловна'\n",
    "print(x.split())"
   ]
  },
  {
   "cell_type": "code",
   "execution_count": 57,
   "metadata": {},
   "outputs": [
    {
     "data": {
      "text/plain": [
       "'high, medium, low'"
      ]
     },
     "execution_count": 57,
     "metadata": {},
     "output_type": "execute_result"
    }
   ],
   "source": [
    "income=['high','medium','low']\n",
    "\", \".join(income)"
   ]
  },
  {
   "cell_type": "code",
   "execution_count": 58,
   "metadata": {},
   "outputs": [
    {
     "data": {
      "text/plain": [
       "'а'"
      ]
     },
     "execution_count": 58,
     "metadata": {},
     "output_type": "execute_result"
    }
   ],
   "source": [
    "x[-1]"
   ]
  },
  {
   "cell_type": "code",
   "execution_count": 59,
   "metadata": {},
   "outputs": [
    {
     "data": {
      "text/plain": [
       "'Элеонора Михайловн'"
      ]
     },
     "execution_count": 59,
     "metadata": {},
     "output_type": "execute_result"
    }
   ],
   "source": [
    "x[:-1]"
   ]
  },
  {
   "cell_type": "code",
   "execution_count": 60,
   "metadata": {},
   "outputs": [
    {
     "data": {
      "text/plain": [
       "'анволйахиМ ароноелЭ'"
      ]
     },
     "execution_count": 60,
     "metadata": {},
     "output_type": "execute_result"
    }
   ],
   "source": [
    "x[::-1]"
   ]
  },
  {
   "cell_type": "code",
   "execution_count": 61,
   "metadata": {},
   "outputs": [
    {
     "data": {
      "text/plain": [
       "{'ivan', 'kostya', 'mixa', 'petr'}"
      ]
     },
     "execution_count": 61,
     "metadata": {},
     "output_type": "execute_result"
    }
   ],
   "source": [
    "nms={'ivan','petr','kostya'}\n",
    "nms.add('mixa')\n",
    "nms"
   ]
  },
  {
   "cell_type": "code",
   "execution_count": 65,
   "metadata": {},
   "outputs": [],
   "source": [
    "a=list(range(10000))\n",
    "b=range(10000)\n",
    "b=set(b)"
   ]
  },
  {
   "cell_type": "code",
   "execution_count": 66,
   "metadata": {},
   "outputs": [
    {
     "data": {
      "text/plain": [
       "[0, 1, 2, 3, 4]"
      ]
     },
     "execution_count": 66,
     "metadata": {},
     "output_type": "execute_result"
    }
   ],
   "source": [
    "a[:5]"
   ]
  },
  {
   "cell_type": "code",
   "execution_count": 68,
   "metadata": {},
   "outputs": [
    {
     "data": {
      "text/plain": [
       "[9995, 9996, 9997, 9998, 9999]"
      ]
     },
     "execution_count": 68,
     "metadata": {},
     "output_type": "execute_result"
    }
   ],
   "source": [
    "a[-5:]"
   ]
  },
  {
   "cell_type": "code",
   "execution_count": 72,
   "metadata": {},
   "outputs": [
    {
     "name": "stdout",
     "output_type": "stream",
     "text": [
      "True\nWall time: 1 ms\n"
     ]
    }
   ],
   "source": [
    "%%time\n",
    "print(9999 in a)"
   ]
  },
  {
   "cell_type": "code",
   "execution_count": 70,
   "metadata": {},
   "outputs": [
    {
     "name": "stdout",
     "output_type": "stream",
     "text": [
      "True\nWall time: 0 ns\n"
     ]
    }
   ],
   "source": [
    "%%time\n",
    "print(9999 in b)"
   ]
  },
  {
   "cell_type": "code",
   "execution_count": 71,
   "metadata": {},
   "outputs": [
    {
     "name": "stdout",
     "output_type": "stream",
     "text": [
      "True\nWall time: 0 ns\n"
     ]
    }
   ],
   "source": [
    "%%time\n",
    "print(5555 in a)"
   ]
  },
  {
   "cell_type": "code",
   "execution_count": 73,
   "metadata": {},
   "outputs": [
    {
     "name": "stdout",
     "output_type": "stream",
     "text": [
      "True\n"
     ]
    }
   ],
   "source": [
    "x=True\n",
    "if x:\n",
    "    print(x)"
   ]
  },
  {
   "cell_type": "code",
   "execution_count": 77,
   "metadata": {},
   "outputs": [
    {
     "name": "stdout",
     "output_type": "stream",
     "text": [
      "0-1-2-3-4-5-6-7-8-9-"
     ]
    }
   ],
   "source": [
    "for i in range(10):\n",
    "    print(i,end='-',)"
   ]
  },
  {
   "cell_type": "code",
   "execution_count": 4,
   "metadata": {},
   "outputs": [
    {
     "data": {
      "text/plain": [
       "generator"
      ]
     },
     "execution_count": 4,
     "metadata": {},
     "output_type": "execute_result"
    }
   ],
   "source": [
    "w=(x**2 for x in range(1,11))\n",
    "type(w)"
   ]
  },
  {
   "cell_type": "code",
   "execution_count": 9,
   "metadata": {},
   "outputs": [],
   "source": [
    "def mrng(a,b):\n",
    "    res=[]\n",
    "    s=a\n",
    "    while s!=b:\n",
    "        res.append(s)\n",
    "        s+=1\n",
    "    return res"
   ]
  },
  {
   "cell_type": "code",
   "execution_count": 10,
   "metadata": {},
   "outputs": [
    {
     "name": "stdout",
     "output_type": "stream",
     "text": [
      "[2, 3, 4, 5, 6]\n"
     ]
    }
   ],
   "source": [
    "print(mrng(2,7))"
   ]
  },
  {
   "cell_type": "code",
   "execution_count": 12,
   "metadata": {},
   "outputs": [
    {
     "name": "stdout",
     "output_type": "stream",
     "text": [
      "[0, 1, 4, 9, 16, 25, 36, 49, 64, 81]\n"
     ]
    }
   ],
   "source": [
    "print(list(map(lambda x:x**2,range(10))))"
   ]
  },
  {
   "cell_type": "code",
   "execution_count": 16,
   "metadata": {},
   "outputs": [
    {
     "data": {
      "text/plain": [
       "'C:\\\\Users\\\\MokhnachevskiyAN'"
      ]
     },
     "execution_count": 16,
     "metadata": {},
     "output_type": "execute_result"
    }
   ],
   "source": [
    "import os\n",
    "os.set"
   ]
  },
  {
   "cell_type": "code",
   "execution_count": 25,
   "metadata": {},
   "outputs": [],
   "source": [
    "file=open('ex.txt','r')"
   ]
  },
  {
   "cell_type": "code",
   "execution_count": 18,
   "metadata": {},
   "outputs": [
    {
     "data": {
      "text/plain": [
       "_io.TextIOWrapper"
      ]
     },
     "execution_count": 18,
     "metadata": {},
     "output_type": "execute_result"
    }
   ],
   "source": [
    "type(file)"
   ]
  },
  {
   "cell_type": "code",
   "execution_count": 29,
   "metadata": {},
   "outputs": [
    {
     "name": "stdout",
     "output_type": "stream",
     "text": [
      "C:\\Users\\MokhnachevskiyAN\\AppData\\Local\\Programs\\Python\\Python36-32;C:\\Users\\MokhnachevskiyAN\\AppData\\Local\\Programs\\Python\\Python36-32\\Scripts\n\n"
     ]
    }
   ],
   "source": [
    "print(file.readline())"
   ]
  },
  {
   "cell_type": "code",
   "execution_count": 43,
   "metadata": {},
   "outputs": [],
   "source": [
    "file=open('ex.txt','r')\n",
    "ls=list(file)"
   ]
  },
  {
   "cell_type": "code",
   "execution_count": 44,
   "metadata": {},
   "outputs": [],
   "source": [
    "file=open('ex.txt','r')\n",
    "ls1=file.readlines()"
   ]
  },
  {
   "cell_type": "code",
   "execution_count": 41,
   "metadata": {},
   "outputs": [],
   "source": [
    "file.close()"
   ]
  },
  {
   "cell_type": "code",
   "execution_count": 42,
   "metadata": {},
   "outputs": [
    {
     "data": {
      "text/plain": [
       "<_io.TextIOWrapper name='ex.txt' mode='r' encoding='cp1251'>"
      ]
     },
     "execution_count": 42,
     "metadata": {},
     "output_type": "execute_result"
    }
   ],
   "source": [
    "file"
   ]
  },
  {
   "cell_type": "code",
   "execution_count": 48,
   "metadata": {},
   "outputs": [
    {
     "name": "stdout",
     "output_type": "stream",
     "text": [
      "Логин: 6500 \nПароль: 7 (указанный вами телефон) \n\nC:\\Users\\MokhnachevskiyAN\\AppData\\Local\\Programs\\Python\\Python36-32;C:\\Users\\MokhnachevskiyAN\\AppData\\Local\\Programs\\Python\\Python36-32\\Scripts\n\nraomokhnachevskiy-an\tAbc123\n\nraomokhnachevskiy-an\n\nC:\\ProgramData\\Oracle\\Java\\javapath;C:\\Program Files (x86)\\Java\\jdk1.8.0_91\\bin;c:\\Program Files (x86)\\Intel\\iCLS Client\\;c:\\Program Files\\Intel\\iCLS Client\\;%SystemRoot%\\system32;%SystemRoot%;%SystemRoot%\\System32\\Wbem;%SYSTEMROOT%\\System32\\WindowsPowerShell\\v1.0\\;C:\\Program Files\\Intel\\Intel(R) Management Engine Components\\DAL;C:\\Program Files\\Intel\\Intel(R) Management Engine Components\\IPT;C:\\Program Files (x86)\\Intel\\Intel(R) Management Engine Components\\DAL;C:\\Program Files (x86)\\Intel\\Intel(R) Management Engine Components\\IPT;c:\\Program Files (x86)\\Microsoft SQL Server\\100\\Tools\\Binn\\;c:\\Program Files\\Microsoft SQL Server\\100\\Tools\\Binn\\;c:\\Program Files\\Microsoft SQL Server\\100\\DTS\\Binn\\;c:\\Program Files (x86)\\Microsoft SQL Server\\100\\Tools\\Binn\\VSShell\\Common7\\IDE\\;c:\\Program Files (x86)\\Microsoft SQL Server\\100\\DTS\\Binn\\;c:\\scripts;C:\\files\\android\\sdk\\platform-tools;%M2_HOME%\\bin;C:\\Program Files\\apache-maven\\bin;C:\\Program Files\\Git\\cmd;C:\\Program Files (x86)\\Zend\\ZendServer\\share\\ZendFramework\\bin;C:\\Program Files (x86)\\Zend\\ZendServer\\bin;C:\\Program Files (x86)\\Zend\\MySQL55\\bin;C:\\Program Files (x86)\\PuTTY\\\n\nRO502326304CN\n\nПЯ0005674  \n  /uc UpdateDBConfiguration\n\n  \\buh\\work\\1c_sql\\бухг2012\n\nflickr key\n5b6a2fdf540f35fb7d421b32c6838298\n\nФормат(ДоговорКонтрагента.Дата,\"ДЛФ=Д\")\n\nS:\\ELEKTRA\\lock\\opozdun\nError:(5, -1) android-apt-compiler: [main] C:\\Users\\MokhnachevskiyAN\\IdeaProjects\\P013_AndroidContextMenu\\app\\src\\main\\res\\menu\\menu_main.xml:5: error: No resource identifier found for attribute 'showAsAction' in package 'info.fandroid.p013_androidcontextmenu'\n"
     ]
    }
   ],
   "source": [
    "import codecs\n",
    "fl=codecs.open('ex.txt')\n",
    "print(fl.read())"
   ]
  },
  {
   "cell_type": "code",
   "execution_count": 8,
   "metadata": {},
   "outputs": [],
   "source": [
    "file=open('C:/Users/MokhnachevskiyAN/PycharmProjects/pyth1/coursMLPyth/sentences.txt')\n",
    "ll=file.readlines()"
   ]
  },
  {
   "cell_type": "code",
   "execution_count": 10,
   "metadata": {},
   "outputs": [
    {
     "data": {
      "text/plain": [
       "22"
      ]
     },
     "execution_count": 10,
     "metadata": {},
     "output_type": "execute_result"
    }
   ],
   "source": [
    "len(ll)"
   ]
  },
  {
   "cell_type": "code",
   "execution_count": 13,
   "metadata": {},
   "outputs": [],
   "source": [
    "file=open('C:/Users/MokhnachevskiyAN/PycharmProjects/pyth1/coursMLPyth/sentences.txt')\n",
    "t=file.read()"
   ]
  },
  {
   "cell_type": "code",
   "execution_count": 15,
   "metadata": {},
   "outputs": [],
   "source": [
    "tl=t.lower()"
   ]
  },
  {
   "cell_type": "code",
   "execution_count": 16,
   "metadata": {},
   "outputs": [
    {
     "data": {
      "text/plain": [
       "'in comparison to dogs, cats have not undergone major changes during the domestication process.\\nas cat simply catenates streams of bytes, it can be also used to concatenate binary files, where it will just concatenate sequence of bytes.\\na common interactive use of cat for a single file is to output the content of a file to standard output.\\ncats can hear sounds too faint or too high in frequency for human ears, such as those made by mice and other small animals.\\nin one, people deliberately tamed cats in a process of artificial selection, as they were useful predators of vermin.\\nthe domesticated cat and its closest wild ancestor are both diploid organisms that possess 38 chromosomes and roughly 20,000 genes.\\ndomestic cats are similar in size to the other members of the genus felis, typically weighing between 4 and 5 kg (8.8 and 11.0 lb).\\nhowever, if the output is piped or redirected, cat is unnecessary.\\ncat with one named file is safer where human error is a concern - one wrong use of the default redirection symbol \">\" instead of \"<\" (often adjacent on keyboards) may permanently delete the file you were just needing to read.\\nin terms of legibility, a sequence of commands starting with cat and connected by pipes has a clear left-to-right flow of information.\\ncat command is one of the basic commands that you learned when you started in the unix / linux world.\\nusing cat command, the lines received from stdin can be redirected to a new file using redirection symbols.\\nwhen you type simply cat command without any arguments, it just receives the stdin content and displays it in the stdout.\\nleopard was released on october 26, 2007 as the successor of tiger (version 10.4), and is available in two editions.\\naccording to apple, leopard contains over 300 changes and enhancements over its predecessor, mac os x tiger.\\nas of mid 2010, some apple computers have firmware factory installed which will no longer allow installation of mac os x leopard.\\nsince apple moved to using intel processors in their computers, the osx86 community has developed and now also allows mac os x tiger and later releases to be installed on non-apple x86-based computers.\\nos x mountain lion was released on july 25, 2012 for purchase and download through apple\\'s mac app store, as part of a switch to releasing os x versions online and every year.\\napple has released a small patch for the three most recent versions of safari running on os x yosemite, mavericks, and mountain lion.\\nthe mountain lion release marks the second time apple has offered an incremental upgrade, rather than releasing a new cat entirely.\\nmac os x mountain lion installs in place, so you won\\'t need to create a separate disk or run the installation off an external drive.\\nthe fifth major update to mac os x, leopard, contains such a mountain of features - more than 300 by apple\\'s count.\\n'"
      ]
     },
     "execution_count": 16,
     "metadata": {},
     "output_type": "execute_result"
    }
   ],
   "source": [
    "tl"
   ]
  },
  {
   "cell_type": "code",
   "execution_count": 17,
   "metadata": {},
   "outputs": [],
   "source": [
    "import re\n",
    "wrd=re.split('[^a-z]',tl)"
   ]
  },
  {
   "cell_type": "code",
   "execution_count": 72,
   "metadata": {},
   "outputs": [
    {
     "data": {
      "text/plain": [
       "['in',\n 'comparison',\n 'to',\n 'dogs',\n 'cats',\n 'have',\n 'not',\n 'undergone',\n 'major',\n 'changes',\n 'during',\n 'the',\n 'domestication',\n 'process',\n '',\n 'as',\n 'cat',\n 'simply',\n 'catenates',\n 'streams',\n 'of',\n 'bytes',\n '',\n 'it',\n 'can',\n 'be',\n 'also',\n 'used',\n 'to',\n 'concatenate',\n 'binary',\n 'files',\n '',\n 'where',\n 'it',\n 'will',\n 'just',\n 'concatenate',\n 'sequence',\n 'of',\n 'bytes',\n '',\n 'a',\n 'common',\n 'interactive',\n 'use',\n 'of',\n 'cat',\n 'for',\n 'a',\n 'single',\n 'file',\n 'is',\n 'to',\n 'output',\n 'the',\n 'content',\n 'of',\n 'a',\n 'file',\n 'to',\n 'standard',\n 'output',\n '',\n 'cats',\n 'can',\n 'hear',\n 'sounds',\n 'too',\n 'faint',\n 'or',\n 'too',\n 'high',\n 'in',\n 'frequency',\n 'for',\n 'human',\n 'ears',\n '',\n 'such',\n 'as',\n 'those',\n 'made',\n 'by',\n 'mice',\n 'and',\n 'other',\n 'small',\n 'animals',\n '',\n 'in',\n 'one',\n '',\n 'people',\n 'deliberately',\n 'tamed',\n 'cats',\n 'in',\n 'a',\n 'process',\n 'of',\n 'artificial',\n 'selection',\n '',\n 'as',\n 'they',\n 'were',\n 'useful',\n 'predators',\n 'of',\n 'vermin',\n '',\n 'the',\n 'domesticated',\n 'cat',\n 'and',\n 'its',\n 'closest',\n 'wild',\n 'ancestor',\n 'are',\n 'both',\n 'diploid',\n 'organisms',\n 'that',\n 'possess',\n '',\n '',\n '',\n 'chromosomes',\n 'and',\n 'roughly',\n '',\n '',\n '',\n '',\n '',\n '',\n '',\n 'genes',\n '',\n 'domestic',\n 'cats',\n 'are',\n 'similar',\n 'in',\n 'size',\n 'to',\n 'the',\n 'other',\n 'members',\n 'of',\n 'the',\n 'genus',\n 'felis',\n '',\n 'typically',\n 'weighing',\n 'between',\n '',\n '',\n 'and',\n '',\n '',\n 'kg',\n '',\n '',\n '',\n '',\n '',\n 'and',\n '',\n '',\n '',\n '',\n '',\n 'lb',\n '',\n '',\n 'however',\n '',\n 'if',\n 'the',\n 'output',\n 'is',\n 'piped',\n 'or',\n 'redirected',\n '',\n 'cat',\n 'is',\n 'unnecessary',\n '',\n 'cat',\n 'with',\n 'one',\n 'named',\n 'file',\n 'is',\n 'safer',\n 'where',\n 'human',\n 'error',\n 'is',\n 'a',\n 'concern',\n '',\n '',\n 'one',\n 'wrong',\n 'use',\n 'of',\n 'the',\n 'default',\n 'redirection',\n 'symbol',\n '',\n '',\n '',\n '',\n 'instead',\n 'of',\n '',\n '',\n '',\n '',\n '',\n 'often',\n 'adjacent',\n 'on',\n 'keyboards',\n '',\n 'may',\n 'permanently',\n 'delete',\n 'the',\n 'file',\n 'you',\n 'were',\n 'just',\n 'needing',\n 'to',\n 'read',\n '',\n 'in',\n 'terms',\n 'of',\n 'legibility',\n '',\n 'a',\n 'sequence',\n 'of',\n 'commands',\n 'starting',\n 'with',\n 'cat',\n 'and',\n 'connected',\n 'by',\n 'pipes',\n 'has',\n 'a',\n 'clear',\n 'left',\n 'to',\n 'right',\n 'flow',\n 'of',\n 'information',\n '',\n 'cat',\n 'command',\n 'is',\n 'one',\n 'of',\n 'the',\n 'basic',\n 'commands',\n 'that',\n 'you',\n 'learned',\n 'when',\n 'you',\n 'started',\n 'in',\n 'the',\n 'unix',\n '',\n '',\n 'linux',\n 'world',\n '',\n 'using',\n 'cat',\n 'command',\n '',\n 'the',\n 'lines',\n 'received',\n 'from',\n 'stdin',\n 'can',\n 'be',\n 'redirected',\n 'to',\n 'a',\n 'new',\n 'file',\n 'using',\n 'redirection',\n 'symbols',\n '',\n 'when',\n 'you',\n 'type',\n 'simply',\n 'cat',\n 'command',\n 'without',\n 'any',\n 'arguments',\n '',\n 'it',\n 'just',\n 'receives',\n 'the',\n 'stdin',\n 'content',\n 'and',\n 'displays',\n 'it',\n 'in',\n 'the',\n 'stdout',\n '',\n 'leopard',\n 'was',\n 'released',\n 'on',\n 'october',\n '',\n '',\n '',\n '',\n '',\n '',\n '',\n '',\n '',\n 'as',\n 'the',\n 'successor',\n 'of',\n 'tiger',\n '',\n 'version',\n '',\n '',\n '',\n '',\n '',\n '',\n '',\n 'and',\n 'is',\n 'available',\n 'in',\n 'two',\n 'editions',\n '',\n 'according',\n 'to',\n 'apple',\n '',\n 'leopard',\n 'contains',\n 'over',\n '',\n '',\n '',\n '',\n 'changes',\n 'and',\n 'enhancements',\n 'over',\n 'its',\n 'predecessor',\n '',\n 'mac',\n 'os',\n 'x',\n 'tiger',\n '',\n 'as',\n 'of',\n 'mid',\n '',\n '',\n '',\n '',\n '',\n '',\n 'some',\n 'apple',\n 'computers',\n 'have',\n 'firmware',\n 'factory',\n 'installed',\n 'which',\n 'will',\n 'no',\n 'longer',\n 'allow',\n 'installation',\n 'of',\n 'mac',\n 'os',\n 'x',\n 'leopard',\n '',\n 'since',\n 'apple',\n 'moved',\n 'to',\n 'using',\n 'intel',\n 'processors',\n 'in',\n 'their',\n 'computers',\n '',\n 'the',\n 'osx',\n '',\n '',\n 'community',\n 'has',\n 'developed',\n 'and',\n 'now',\n 'also',\n 'allows',\n 'mac',\n 'os',\n 'x',\n 'tiger',\n 'and',\n 'later',\n 'releases',\n 'to',\n 'be',\n 'installed',\n 'on',\n 'non',\n 'apple',\n 'x',\n '',\n '',\n 'based',\n 'computers',\n '',\n 'os',\n 'x',\n 'mountain',\n 'lion',\n 'was',\n 'released',\n 'on',\n 'july',\n '',\n '',\n '',\n '',\n '',\n '',\n '',\n '',\n '',\n 'for',\n 'purchase',\n 'and',\n 'download',\n 'through',\n 'apple',\n 's',\n 'mac',\n 'app',\n 'store',\n '',\n 'as',\n 'part',\n 'of',\n 'a',\n 'switch',\n 'to',\n 'releasing',\n 'os',\n 'x',\n 'versions',\n 'online',\n 'and',\n 'every',\n 'year',\n '',\n 'apple',\n 'has',\n 'released',\n 'a',\n 'small',\n 'patch',\n 'for',\n 'the',\n 'three',\n 'most',\n 'recent',\n 'versions',\n 'of',\n 'safari',\n 'running',\n 'on',\n 'os',\n 'x',\n 'yosemite',\n '',\n 'mavericks',\n '',\n 'and',\n 'mountain',\n 'lion',\n '',\n 'the',\n 'mountain',\n 'lion',\n 'release',\n 'marks',\n 'the',\n 'second',\n 'time',\n 'apple',\n 'has',\n 'offered',\n 'an',\n 'incremental',\n 'upgrade',\n '',\n 'rather',\n 'than',\n 'releasing',\n 'a',\n 'new',\n 'cat',\n 'entirely',\n '',\n 'mac',\n 'os',\n 'x',\n 'mountain',\n 'lion',\n 'installs',\n 'in',\n 'place',\n '',\n 'so',\n 'you',\n 'won',\n 't',\n 'need',\n 'to',\n 'create',\n 'a',\n 'separate',\n 'disk',\n 'or',\n 'run',\n 'the',\n 'installation',\n 'off',\n 'an',\n 'external',\n 'drive',\n '',\n 'the',\n 'fifth',\n 'major',\n 'update',\n 'to',\n 'mac',\n 'os',\n 'x',\n '',\n 'leopard',\n '',\n 'contains',\n 'such',\n 'a',\n 'mountain',\n 'of',\n 'features',\n '',\n '',\n 'more',\n 'than',\n '',\n '',\n '',\n '',\n 'by',\n 'apple',\n 's',\n 'count',\n '',\n '']"
      ]
     },
     "execution_count": 72,
     "metadata": {},
     "output_type": "execute_result"
    }
   ],
   "source": [
    "wrd"
   ]
  },
  {
   "cell_type": "code",
   "execution_count": 31,
   "metadata": {},
   "outputs": [
    {
     "data": {
      "text/plain": [
       "{'a',\n 'according',\n 'adjacent',\n 'allow',\n 'allows',\n 'also',\n 'an',\n 'ancestor',\n 'and',\n 'animals',\n 'any',\n 'app',\n 'apple',\n 'are',\n 'arguments',\n 'artificial',\n 'as',\n 'available',\n 'based',\n 'basic',\n 'be',\n 'between',\n 'binary',\n 'both',\n 'by',\n 'bytes',\n 'can',\n 'cat',\n 'catenates',\n 'cats',\n 'changes',\n 'chromosomes',\n 'clear',\n 'closest',\n 'command',\n 'commands',\n 'common',\n 'community',\n 'comparison',\n 'computers',\n 'concatenate',\n 'concern',\n 'connected',\n 'contains',\n 'content',\n 'count',\n 'create',\n 'default',\n 'delete',\n 'deliberately',\n 'developed',\n 'diploid',\n 'disk',\n 'displays',\n 'dogs',\n 'domestic',\n 'domesticated',\n 'domestication',\n 'download',\n 'drive',\n 'during',\n 'ears',\n 'editions',\n 'enhancements',\n 'entirely',\n 'error',\n 'every',\n 'external',\n 'factory',\n 'faint',\n 'features',\n 'felis',\n 'fifth',\n 'file',\n 'files',\n 'firmware',\n 'flow',\n 'for',\n 'frequency',\n 'from',\n 'genes',\n 'genus',\n 'has',\n 'have',\n 'hear',\n 'high',\n 'however',\n 'human',\n 'if',\n 'in',\n 'incremental',\n 'information',\n 'installation',\n 'installed',\n 'installs',\n 'instead',\n 'intel',\n 'interactive',\n 'is',\n 'it',\n 'its',\n 'july',\n 'just',\n 'keyboards',\n 'kg',\n 'later',\n 'lb',\n 'learned',\n 'left',\n 'legibility',\n 'leopard',\n 'lines',\n 'linux',\n 'lion',\n 'longer',\n 'mac',\n 'made',\n 'major',\n 'marks',\n 'mavericks',\n 'may',\n 'members',\n 'mice',\n 'mid',\n 'more',\n 'most',\n 'mountain',\n 'moved',\n 'named',\n 'need',\n 'needing',\n 'new',\n 'no',\n 'non',\n 'not',\n 'now',\n 'october',\n 'of',\n 'off',\n 'offered',\n 'often',\n 'on',\n 'one',\n 'online',\n 'or',\n 'organisms',\n 'os',\n 'osx',\n 'other',\n 'output',\n 'over',\n 'part',\n 'patch',\n 'people',\n 'permanently',\n 'piped',\n 'pipes',\n 'place',\n 'possess',\n 'predators',\n 'predecessor',\n 'process',\n 'processors',\n 'purchase',\n 'rather',\n 'read',\n 'received',\n 'receives',\n 'recent',\n 'redirected',\n 'redirection',\n 'release',\n 'released',\n 'releases',\n 'releasing',\n 'right',\n 'roughly',\n 'run',\n 'running',\n 's',\n 'safari',\n 'safer',\n 'second',\n 'selection',\n 'separate',\n 'sequence',\n 'similar',\n 'simply',\n 'since',\n 'single',\n 'size',\n 'small',\n 'so',\n 'some',\n 'sounds',\n 'standard',\n 'started',\n 'starting',\n 'stdin',\n 'stdout',\n 'store',\n 'streams',\n 'successor',\n 'such',\n 'switch',\n 'symbol',\n 'symbols',\n 't',\n 'tamed',\n 'terms',\n 'than',\n 'that',\n 'the',\n 'their',\n 'they',\n 'those',\n 'three',\n 'through',\n 'tiger',\n 'time',\n 'to',\n 'too',\n 'two',\n 'type',\n 'typically',\n 'undergone',\n 'unix',\n 'unnecessary',\n 'update',\n 'upgrade',\n 'use',\n 'used',\n 'useful',\n 'using',\n 'vermin',\n 'version',\n 'versions',\n 'was',\n 'weighing',\n 'were',\n 'when',\n 'where',\n 'which',\n 'wild',\n 'will',\n 'with',\n 'without',\n 'won',\n 'world',\n 'wrong',\n 'x',\n 'year',\n 'yosemite',\n 'you'}"
      ]
     },
     "execution_count": 31,
     "metadata": {},
     "output_type": "execute_result"
    }
   ],
   "source": [
    "st=set(wrd)\n",
    "st.remove('')\n",
    "st"
   ]
  },
  {
   "cell_type": "code",
   "execution_count": 23,
   "metadata": {},
   "outputs": [],
   "source": [
    "d={}\n",
    "for st1 in st:\n",
    "    d[st1]=wrd.count(st1)"
   ]
  },
  {
   "cell_type": "code",
   "execution_count": 25,
   "metadata": {},
   "outputs": [
    {
     "data": {
      "text/plain": [
       "255"
      ]
     },
     "execution_count": 25,
     "metadata": {},
     "output_type": "execute_result"
    }
   ],
   "source": [
    "len(d)"
   ]
  },
  {
   "cell_type": "code",
   "execution_count": 26,
   "metadata": {},
   "outputs": [
    {
     "data": {
      "text/plain": [
       "255"
      ]
     },
     "execution_count": 26,
     "metadata": {},
     "output_type": "execute_result"
    }
   ],
   "source": [
    "len(st)"
   ]
  },
  {
   "cell_type": "code",
   "execution_count": 27,
   "metadata": {},
   "outputs": [
    {
     "data": {
      "text/plain": [
       "613"
      ]
     },
     "execution_count": 27,
     "metadata": {},
     "output_type": "execute_result"
    }
   ],
   "source": [
    "len(wrd)"
   ]
  },
  {
   "cell_type": "code",
   "execution_count": 29,
   "metadata": {},
   "outputs": [
    {
     "data": {
      "text/plain": [
       "613"
      ]
     },
     "execution_count": 29,
     "metadata": {},
     "output_type": "execute_result"
    }
   ],
   "source": [
    "sum(d.values())"
   ]
  },
  {
   "cell_type": "code",
   "execution_count": 32,
   "metadata": {},
   "outputs": [],
   "source": [
    "dd={}\n",
    "for id,st1 in enumerate(st):\n",
    "    dd[st1]=id"
   ]
  },
  {
   "cell_type": "code",
   "execution_count": 34,
   "metadata": {},
   "outputs": [
    {
     "data": {
      "text/plain": [
       "dict_values([0, 1, 2, 3, 4, 5, 6, 7, 8, 9, 10, 11, 12, 13, 14, 15, 16, 17, 18, 19, 20, 21, 22, 23, 24, 25, 26, 27, 28, 29, 30, 31, 32, 33, 34, 35, 36, 37, 38, 39, 40, 41, 42, 43, 44, 45, 46, 47, 48, 49, 50, 51, 52, 53, 54, 55, 56, 57, 58, 59, 60, 61, 62, 63, 64, 65, 66, 67, 68, 69, 70, 71, 72, 73, 74, 75, 76, 77, 78, 79, 80, 81, 82, 83, 84, 85, 86, 87, 88, 89, 90, 91, 92, 93, 94, 95, 96, 97, 98, 99, 100, 101, 102, 103, 104, 105, 106, 107, 108, 109, 110, 111, 112, 113, 114, 115, 116, 117, 118, 119, 120, 121, 122, 123, 124, 125, 126, 127, 128, 129, 130, 131, 132, 133, 134, 135, 136, 137, 138, 139, 140, 141, 142, 143, 144, 145, 146, 147, 148, 149, 150, 151, 152, 153, 154, 155, 156, 157, 158, 159, 160, 161, 162, 163, 164, 165, 166, 167, 168, 169, 170, 171, 172, 173, 174, 175, 176, 177, 178, 179, 180, 181, 182, 183, 184, 185, 186, 187, 188, 189, 190, 191, 192, 193, 194, 195, 196, 197, 198, 199, 200, 201, 202, 203, 204, 205, 206, 207, 208, 209, 210, 211, 212, 213, 214, 215, 216, 217, 218, 219, 220, 221, 222, 223, 224, 225, 226, 227, 228, 229, 230, 231, 232, 233, 234, 235, 236, 237, 238, 239, 240, 241, 242, 243, 244, 245, 246, 247, 248, 249, 250, 251, 252, 253])"
      ]
     },
     "execution_count": 34,
     "metadata": {},
     "output_type": "execute_result"
    }
   ],
   "source": [
    "dd.values()"
   ]
  },
  {
   "cell_type": "code",
   "execution_count": 35,
   "metadata": {},
   "outputs": [
    {
     "data": {
      "text/plain": [
       "dict_keys(['its', 'computers', 'has', 'successor', 'mac', 'mid', 'permanently', 'place', 'such', 'animals', 'it', 'may', 'predecessor', 'use', 'were', 'organisms', 'which', 'domesticated', 'installs', 'as', 'frequency', 'genus', 'between', 'concern', 'needing', 'off', 'later', 'too', 'left', 'type', 'that', 'longer', 'domestication', 'recent', 'deliberately', 'marks', 'version', 'redirection', 'cat', 'linux', 'safer', 'wrong', 'unnecessary', 'three', 'available', 'size', 'released', 'they', 'those', 'features', 'tamed', 'need', 'received', 'connected', 'people', 'allows', 'for', 'external', 'have', 'adjacent', 'however', 'changes', 'symbols', 'no', 'store', 'is', 'os', 'upgrade', 'more', 'you', 'tiger', 'genes', 'both', 'won', 'or', 'contains', 'roughly', 'ears', 'moved', 'disk', 'diploid', 'commands', 'single', 'factory', 'right', 'editions', 'lion', 'artificial', 'terms', 'file', 'leopard', 'process', 'streams', 'now', 'also', 'instead', 'incremental', 'during', 'files', 'separate', 'when', 'count', 'human', 'members', 'error', 'on', 'their', 'since', 'x', 'be', 'output', 'releases', 'based', 'mountain', 'over', 'the', 'of', 'not', 'download', 'app', 'major', 'every', 'felis', 'used', 'to', 'was', 'flow', 'purchase', 'safari', 'command', 'binary', 'and', 'named', 'a', 'can', 'faint', 'kg', 'typically', 'stdout', 'common', 'if', 'firmware', 'processors', 'vermin', 'switch', 'simply', 'comparison', 'chromosomes', 'installed', 'yosemite', 'run', 'fifth', 'than', 'clear', 'piped', 'keyboards', 'delete', 'read', 'often', 'information', 'weighing', 'arguments', 'cats', 's', 'rather', 'hear', 'where', 'closest', 'july', 'drive', 'basic', 'symbol', 'selection', 'sequence', 'online', 'some', 'lb', 'without', 'with', 'any', 'year', 'pipes', 'part', 'high', 'other', 'intel', 'patch', 'default', 'standard', 'enhancements', 'made', 'stdin', 'create', 'undergone', 'similar', 'releasing', 'redirected', 'new', 'concatenate', 'wild', 'starting', 'non', 'just', 'useful', 'mavericks', 'offered', 'through', 'two', 'entirely', 'by', 'according', 'started', 'domestic', 'world', 'mice', 'developed', 'using', 'possess', 'allow', 'installation', 'predators', 'second', 'community', 'unix', 'release', 'will', 't', 'ancestor', 'learned', 'time', 'most', 'osx', 'running', 'october', 'receives', 'sounds', 'from', 'displays', 'legibility', 'versions', 'dogs', 'update', 'small', 'lines', 'an', 'are', 'so', 'interactive', 'apple', 'in', 'catenates', 'bytes', 'content', 'one'])"
      ]
     },
     "execution_count": 35,
     "metadata": {},
     "output_type": "execute_result"
    }
   ],
   "source": [
    "dd.keys()"
   ]
  },
  {
   "cell_type": "code",
   "execution_count": 36,
   "metadata": {},
   "outputs": [],
   "source": [
    "import numpy as np"
   ]
  },
  {
   "cell_type": "code",
   "execution_count": 37,
   "metadata": {},
   "outputs": [],
   "source": [
    "mt=np.zeros((22,254))"
   ]
  },
  {
   "cell_type": "code",
   "execution_count": 42,
   "metadata": {},
   "outputs": [],
   "source": [
    "file=open('C:/Users/MokhnachevskiyAN/PycharmProjects/pyth1/coursMLPyth/sentences.txt')\n",
    "ls=file.readlines()"
   ]
  },
  {
   "cell_type": "code",
   "execution_count": 104,
   "metadata": {},
   "outputs": [],
   "source": [
    "i=0\n",
    "mt=np.zeros((22,254))\n",
    "for lsel in ls:\n",
    "    for ddel in dd:\n",
    "        ls1=re.split('[^a-z]',lsel.lower())\n",
    "        if ls1.count(ddel)>0:\n",
    "            mt[i][dd[ddel]]=lsel.count(ddel)\n",
    "    i+=1"
   ]
  },
  {
   "cell_type": "code",
   "execution_count": 90,
   "metadata": {},
   "outputs": [
    {
     "data": {
      "text/plain": [
       "(22, 254)"
      ]
     },
     "execution_count": 90,
     "metadata": {},
     "output_type": "execute_result"
    }
   ],
   "source": [
    "mt.shape"
   ]
  },
  {
   "cell_type": "code",
   "execution_count": 88,
   "metadata": {},
   "outputs": [],
   "source": [
    "ll=list(np.argwhere(mt[0]==1))"
   ]
  },
  {
   "cell_type": "code",
   "execution_count": 105,
   "metadata": {},
   "outputs": [
    {
     "name": "stdout",
     "output_type": "stream",
     "text": [
      "domestication\nhave\nchanges\nprocess\nduring\nthe\nnot\nmajor\nto\ncomparison\ncats\nundergone\ndogs\nin\n"
     ]
    }
   ],
   "source": [
    "for lle in ll:\n",
    "    print(list(dd.keys())[list(dd.values()).index(lle)])"
   ]
  },
  {
   "cell_type": "code",
   "execution_count": 85,
   "metadata": {},
   "outputs": [
    {
     "data": {
      "text/plain": [
       "['in',\n 'comparison',\n 'to',\n 'dogs',\n '',\n 'cats',\n 'have',\n 'not',\n 'undergone',\n 'major',\n 'changes',\n 'during',\n 'the',\n 'domestication',\n 'process',\n '',\n '']"
      ]
     },
     "execution_count": 85,
     "metadata": {},
     "output_type": "execute_result"
    }
   ],
   "source": [
    "re.split('[^a-z]',ls[0].lower())"
   ]
  },
  {
   "cell_type": "code",
   "execution_count": 84,
   "metadata": {},
   "outputs": [
    {
     "data": {
      "text/plain": [
       "'In comparison to dogs, cats have not undergone major changes during the domestication process.\\n'"
      ]
     },
     "execution_count": 84,
     "metadata": {},
     "output_type": "execute_result"
    }
   ],
   "source": [
    "ls[0]"
   ]
  },
  {
   "cell_type": "code",
   "execution_count": 106,
   "metadata": {},
   "outputs": [],
   "source": [
    "import scipy.spatial as sp\n",
    "ldist=[]\n",
    "for i in range(1,22):\n",
    "    ldist.append(sp.distance.cosine(mt[0],mt[i]))"
   ]
  },
  {
   "cell_type": "code",
   "execution_count": 107,
   "metadata": {},
   "outputs": [
    {
     "data": {
      "text/plain": [
       "[0.96059447968804501,\n 0.89817336500468037,\n 0.90399692785253616,\n 0.88472191645915299,\n 1.0,\n 0.66398924748387644,\n 0.92284832501895409,\n 0.94988851714142042,\n 0.92523328205811595,\n 0.79034303265561634,\n 0.90550888174769317,\n 0.81929841941894976,\n 0.90240999270514666,\n 0.838835407194924,\n 0.93318468952189393,\n 0.7142857142857143,\n 0.96978700289651232,\n 0.97619047619047616,\n 0.95851300931774885,\n 0.90399692785253616,\n 0.94903528085623745]"
      ]
     },
     "execution_count": 107,
     "metadata": {},
     "output_type": "execute_result"
    }
   ],
   "source": [
    "ldist"
   ]
  },
  {
   "cell_type": "code",
   "execution_count": 108,
   "metadata": {},
   "outputs": [
    {
     "data": {
      "text/plain": [
       "5"
      ]
     },
     "execution_count": 108,
     "metadata": {},
     "output_type": "execute_result"
    }
   ],
   "source": [
    "ldist.index(min(ldist))"
   ]
  },
  {
   "cell_type": "code",
   "execution_count": 109,
   "metadata": {},
   "outputs": [
    {
     "data": {
      "text/plain": [
       "'Domestic cats are similar in size to the other members of the genus Felis, typically weighing between 4 and 5 kg (8.8 and 11.0 lb).\\n'"
      ]
     },
     "execution_count": 109,
     "metadata": {},
     "output_type": "execute_result"
    }
   ],
   "source": [
    "ls[6]"
   ]
  },
  {
   "cell_type": "code",
   "execution_count": 102,
   "metadata": {},
   "outputs": [
    {
     "data": {
      "text/plain": [
       "'In comparison to dogs, cats have not undergone major changes during the domestication process.\\n'"
      ]
     },
     "execution_count": 102,
     "metadata": {},
     "output_type": "execute_result"
    }
   ],
   "source": [
    "ls[0]"
   ]
  },
  {
   "cell_type": "code",
   "execution_count": 111,
   "metadata": {},
   "outputs": [
    {
     "data": {
      "text/plain": [
       "'The domesticated cat and its closest wild ancestor are both diploid organisms that possess 38 chromosomes and roughly 20,000 genes.\\n'"
      ]
     },
     "execution_count": 111,
     "metadata": {},
     "output_type": "execute_result"
    }
   ],
   "source": [
    "ls[5]"
   ]
  },
  {
   "cell_type": "code",
   "execution_count": null,
   "metadata": {},
   "outputs": [],
   "source": [
    ""
   ]
  }
 ],
 "metadata": {
  "kernelspec": {
   "display_name": "Python 2",
   "language": "python",
   "name": "python2"
  },
  "language_info": {
   "codemirror_mode": {
    "name": "ipython",
    "version": 2.0
   },
   "file_extension": ".py",
   "mimetype": "text/x-python",
   "name": "python",
   "nbconvert_exporter": "python",
   "pygments_lexer": "ipython2",
   "version": "2.7.6"
  }
 },
 "nbformat": 4,
 "nbformat_minor": 0
}