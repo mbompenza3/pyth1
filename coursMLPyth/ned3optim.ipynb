{
 "cells": [
  {
   "cell_type": "code",
   "execution_count": 1,
   "metadata": {
    "collapsed": true
   },
   "outputs": [],
   "source": [
    "import numpy as np\n",
    "def f(x):\n",
    "    return np.sin(x/5)*np.exp(x/10)+5*np.exp(-x/2)"
   ]
  },
  {
   "cell_type": "code",
   "execution_count": 2,
   "metadata": {},
   "outputs": [],
   "source": [
    "%matplotlib inline"
   ]
  },
  {
   "cell_type": "code",
   "execution_count": 3,
   "metadata": {},
   "outputs": [
    {
     "data": {
      "text/plain": [
       "[<matplotlib.lines.Line2D at 0x850c9e8>]"
      ]
     },
     "execution_count": 3,
     "metadata": {},
     "output_type": "execute_result"
    },
    {
     "data": {
      "image/png": "[encoded data removed]",
      "text/plain": [
       "<matplotlib.figure.Figure at 0x844f978>"
      ]
     },
     "metadata": {},
     "output_type": "display_data"
    }
   ],
   "source": [
    "from matplotlib import pylab as plt\n",
    "x=np.arange(1,30,0.1)\n",
    "y=f(x)\n",
    "plt.plot(x,y)"
   ]
  },
  {
   "cell_type": "code",
   "execution_count": 4,
   "metadata": {},
   "outputs": [],
   "source": [
    "from scipy import optimize"
   ]
  },
  {
   "cell_type": "code",
   "execution_count": 10,
   "metadata": {},
   "outputs": [
    {
     "name": "stdout",
     "output_type": "stream",
     "text": [
      "      fun: 1.7452682903447336\n hess_inv: array([[ 5.98752645]])\n      jac: array([ -2.04145908e-06])\n  message: 'Optimization terminated successfully.'\n     nfev: 21\n      nit: 6\n     njev: 7\n   status: 0\n  success: True\n        x: array([ 4.13627628])\n"
     ]
    },
    {
     "data": {
      "text/plain": [
       "array([ 4.13627628])"
      ]
     },
     "execution_count": 10,
     "metadata": {},
     "output_type": "execute_result"
    }
   ],
   "source": [
    "xm=optimize.minimize(f,2,method='BFGS')\n",
    "print(xm)\n",
    "xm.x"
   ]
  },
  {
   "cell_type": "code",
   "execution_count": 23,
   "metadata": {},
   "outputs": [
    {
     "name": "stdout",
     "output_type": "stream",
     "text": [
      "      fun: -11.898894665981313\n hess_inv: array([[ 1.67936744]])\n      jac: array([ 0.])\n  message: 'Optimization terminated successfully.'\n     nfev: 21\n      nit: 6\n     njev: 7\n   status: 0\n  success: True\n        x: array([ 25.88019321])\n"
     ]
    },
    {
     "data": {
      "text/plain": [
       "array([ 25.88019321])"
      ]
     },
     "execution_count": 23,
     "metadata": {},
     "output_type": "execute_result"
    }
   ],
   "source": [
    "xm=optimize.minimize(f,30,method='BFGS')\n",
    "print(xm)\n",
    "xm.x"
   ]
  },
  {
   "cell_type": "code",
   "execution_count": 13,
   "metadata": {},
   "outputs": [
    {
     "data": {
      "text/plain": [
       "     fun: array([-11.89889467])\n     jac: array([  8.88178420e-07])\n message: 'Optimization terminated successfully.'\n    nfev: 66\n     nit: 3\n success: True\n       x: array([ 25.88019419])"
      ]
     },
     "execution_count": 13,
     "metadata": {},
     "output_type": "execute_result"
    }
   ],
   "source": [
    "res=optimize.differential_evolution(f,[(1,30)])\n",
    "res"
   ]
  },
  {
   "cell_type": "code",
   "execution_count": 19,
   "metadata": {},
   "outputs": [
    {
     "data": {
      "text/plain": [
       "     fun: -11.898894665980874\n message: 'Optimization terminated successfully.'\n    nfev: 107\n     nit: 6\n success: True\n       x: array([ 25.8801918])"
      ]
     },
     "execution_count": 19,
     "metadata": {},
     "output_type": "execute_result"
    }
   ],
   "source": [
    "res=optimize.differential_evolution(f,[(1,30)])\n",
    "res"
   ]
  },
  {
   "cell_type": "code",
   "execution_count": 33,
   "metadata": {},
   "outputs": [],
   "source": [
    "def f1(x):\n",
    "    return np.floor(f(x))"
   ]
  },
  {
   "cell_type": "code",
   "execution_count": 34,
   "metadata": {},
   "outputs": [
    {
     "data": {
      "text/plain": [
       "[<matplotlib.lines.Line2D at 0x90d8588>]"
      ]
     },
     "execution_count": 34,
     "metadata": {},
     "output_type": "execute_result"
    },
    {
     "data": {
      "image/png": "[encoded data removed]",
      "text/plain": [
       "<matplotlib.figure.Figure at 0x8f62be0>"
      ]
     },
     "metadata": {},
     "output_type": "display_data"
    }
   ],
   "source": [
    "from matplotlib import pylab as plt\n",
    "x1=np.arange(1,30,0.1)\n",
    "y1=f1(x1)\n",
    "plt.plot(x1,y1)"
   ]
  },
  {
   "cell_type": "code",
   "execution_count": 37,
   "metadata": {},
   "outputs": [
    {
     "name": "stdout",
     "output_type": "stream",
     "text": [
      "      fun: array([-6.])\n hess_inv: array([[1]])\n      jac: array([ 0.])\n  message: 'Optimization terminated successfully.'\n     nfev: 3\n      nit: 0\n     njev: 1\n   status: 0\n  success: True\n        x: array([ 30.])\n"
     ]
    },
    {
     "data": {
      "text/plain": [
       "array([ 30.])"
      ]
     },
     "execution_count": 37,
     "metadata": {},
     "output_type": "execute_result"
    }
   ],
   "source": [
    "xm=optimize.minimize(f1,30,method='BFGS')\n",
    "print(xm)\n",
    "xm.x"
   ]
  },
  {
   "cell_type": "code",
   "execution_count": 38,
   "metadata": {},
   "outputs": [
    {
     "data": {
      "text/plain": [
       "     fun: -12.0\n message: 'Optimization terminated successfully.'\n    nfev: 77\n     nit: 4\n success: True\n       x: array([ 24.71695982])"
      ]
     },
     "execution_count": 38,
     "metadata": {},
     "output_type": "execute_result"
    }
   ],
   "source": [
    "res=optimize.differential_evolution(f1,[(1,30)])\n",
    "res"
   ]
  },
  {
   "cell_type": "code",
   "execution_count": null,
   "metadata": {},
   "outputs": [],
   "source": [
    ""
   ]
  }
 ],
 "metadata": {
  "kernelspec": {
   "display_name": "Python 2",
   "language": "python",
   "name": "python2"
  },
  "language_info": {
   "codemirror_mode": {
    "name": "ipython",
    "version": 2.0
   },
   "file_extension": ".py",
   "mimetype": "text/x-python",
   "name": "python",
   "nbconvert_exporter": "python",
   "pygments_lexer": "ipython2",
   "version": "2.7.6"
  }
 },
 "nbformat": 4,
 "nbformat_minor": 0
}